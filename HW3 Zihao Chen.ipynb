{
 "cells": [
  {
   "cell_type": "markdown",
   "metadata": {},
   "source": [
    "# 1 "
   ]
  },
  {
   "cell_type": "code",
   "execution_count": 1,
   "metadata": {},
   "outputs": [
    {
     "name": "stdout",
     "output_type": "stream",
     "text": [
      "Cost: $1780.0k\n",
      "x: 2 dimensions:\n",
      "[M,:]\n",
      "  [M,A] = 5.0\n",
      "  [M,L] = 40.0\n",
      "  [M,B] = 0.0\n",
      "[P,:]\n",
      "  [P,A] = 0.0\n",
      "  [P,L] = 0.0\n",
      "  [P,B] = 0.0\n",
      "[S,:]\n",
      "  [S,A] = 0.0\n",
      "  [S,L] = 0.0\n",
      "  [S,B] = 35.0\n",
      "[N,:]\n",
      "  [N,A] = 0.0\n",
      "  [N,L] = 0.0\n",
      "  [N,B] = 0.0\n"
     ]
    },
    {
     "data": {
      "text/plain": [
       "4×3 Named Array{Float64,2}\n",
       "w ╲ dc │   :A    :L    :B\n",
       "───────┼─────────────────\n",
       ":M     │  0.0   0.0   0.0\n",
       ":P     │ 50.0   0.0   0.0\n",
       ":S     │  0.0   0.0   0.0\n",
       ":N     │  0.0   0.0  30.0"
      ]
     },
     "execution_count": 1,
     "metadata": {},
     "output_type": "execute_result"
    }
   ],
   "source": [
    "using JuMP, Clp, NamedArrays\n",
    "\n",
    "num_orders = 160 # total orders \n",
    "w = [:M, :P, :S, :N] # warehouses \n",
    "dc = [:A, :L, :B] # distribution centers \n",
    "modes = [:air, :rail] # possible modes of transportation \n",
    "max_w_cap = Dict(zip(w,[45,50,70,30])) # capacity of each warehouse \n",
    "min_air_cap = Dict(zip(dc,[5,10,15]))\n",
    "nodes = [] # fill in nodes \n",
    "arcs = []; \n",
    "# fill in arcs. you might want to use tuples \n",
    "# e.g., arc from node 1 to node2: (:node1,:node2)\n",
    "\n",
    "raw_air = [12 11 100000\n",
    "        12 14 20\n",
    "        100000 100000 18\n",
    "        9 8 100000]\n",
    "\n",
    "raw_rail = [100000 100000 100000\n",
    "        10 12 100000\n",
    "        100000 100000 100000\n",
    "        7 100000 5 ]\n",
    "\n",
    "air = NamedArray(raw_air, (w,dc),(\"w\",\"dc\"))\n",
    "rail = NamedArray(raw_rail, (w,dc), (\"w\",\"dc\"))\n",
    "\n",
    "m = Model(solver=ClpSolver())\n",
    "@variable(m, 0<=x[w, dc] <=45)\n",
    "@variable(m, 0<=y[w, dc] <=60)\n",
    "\n",
    "@objective(m, Min, sum(x[i,j]*air[i,j]+y[i,j]*rail[i,j] for i in w, j in dc))\n",
    "\n",
    "for i in w\n",
    "    @constraint(m, sum(x[i,j]+y[i,j] for j in dc)<=max_w_cap[i])\n",
    "end\n",
    "\n",
    "@constraint(m, sum(x) + sum(y) == 160)\n",
    "\n",
    "for j in dc\n",
    "    @constraint(m, sum(x[i,j] for i in w) >= min_air_cap[j])\n",
    "end\n",
    "\n",
    "solve(m)\n",
    "\n",
    "println(\"Cost: \\$\", getobjectivevalue(m),\"k\")\n",
    "\n",
    "println(getvalue(x))\n",
    "\n",
    "#assignment1 = NamedArray( [ (getvalue(x[i,j])) for i in w, j in dc ], (w, dc), (\"w\",\"dc\"))\n",
    "assignment2 = NamedArray( [ (getvalue(y[i,j])) for i in w, j in dc ], (w, dc), (\"w\",\"dc\"))\n"
   ]
  },
  {
   "cell_type": "markdown",
   "metadata": {},
   "source": [
    "# 2"
   ]
  },
  {
   "cell_type": "code",
   "execution_count": 2,
   "metadata": {},
   "outputs": [
    {
     "name": "stdout",
     "output_type": "stream",
     "text": [
      "Max flow: 56.0\n"
     ]
    },
    {
     "data": {
      "text/plain": [
       "10×10 Named Array{Float64,2}\n",
       "f ╲ t │    1     2     3     4     5     6     7     8     9    10\n",
       "──────┼───────────────────────────────────────────────────────────\n",
       "1     │  0.0   0.0  16.0   0.0  14.0   0.0   0.0   0.0   0.0   0.0\n",
       "2     │  0.0   0.0   0.0  21.0   5.0   0.0   0.0   0.0   0.0   0.0\n",
       "3     │  0.0   0.0   0.0   0.0   0.0   0.0  16.0   0.0   0.0   0.0\n",
       "4     │  0.0   0.0   0.0   0.0   2.0  19.0   0.0   0.0   0.0   0.0\n",
       "5     │  0.0   0.0   0.0   0.0   0.0   0.0   0.0   9.0   0.0  12.0\n",
       "6     │  0.0   0.0   0.0   0.0   0.0   0.0   0.0   0.0  10.0   9.0\n",
       "7     │  0.0   0.0   0.0   0.0   0.0   0.0   0.0   8.0   8.0   0.0\n",
       "8     │  0.0   0.0   0.0   0.0   0.0   0.0   0.0   0.0   0.0   0.0\n",
       "9     │  0.0   0.0   0.0   0.0   0.0   0.0   0.0   0.0   0.0   0.0\n",
       "10    │  0.0   0.0   0.0   0.0   0.0   0.0   0.0   0.0   0.0   0.0"
      ]
     },
     "execution_count": 2,
     "metadata": {},
     "output_type": "execute_result"
    }
   ],
   "source": [
    "using JuMP, Clp, NamedArrays\n",
    "\n",
    "node = [:1, :2, :3, :4, :5, :6, :7, :8, :9, :10]\n",
    "\n",
    "cap_raw = [\n",
    "0 0 21 11 16 0 0 0 0 0 \n",
    "0 0 0 22 5 0 0 0 0 0 \n",
    "0 0 0 0 9 0 16 0 0 0 \n",
    "0 0 0 0 2 23 0 0 0 0\n",
    "0 0 0 0 0 0 0 14 10 16 \n",
    "0 0 0 0 0 0 0 0 10 9 \n",
    "0 0 0 0 0 0 0 8 10 0 \n",
    "0 0 0 0 0 0 0 0 0 0 \n",
    "0 0 0 0 0 0 0 0 0 0 \n",
    "0 0 0 0 0 0 0 0 0 0 \n",
    "]\n",
    "cap = NamedArray(cap_raw, (node,node), (\"node1\",\"node2\"))\n",
    "\n",
    "source = Dict(zip(node,[30,27,0,0,0,0,0,0,0,0]))\n",
    "sink = Dict(zip(node,[0,0,0,0,0,0,0,17,15,21]))\n",
    "\n",
    "m = Model(solver = ClpSolver())\n",
    "\n",
    "@variable(m, x[node,node] >=0)\n",
    "\n",
    "for i in node\n",
    "    for j in node\n",
    "        @constraint(m, 0<= x[i,j] <=cap[i,j])\n",
    "    end\n",
    "end\n",
    "\n",
    "for i = 3:7\n",
    "    @constraint(m, sum(x[j,i] for j in node) == sum(x[i,k] for k in node))\n",
    "end\n",
    "\n",
    "for i = 1:2\n",
    "    @constraint(m, sum(x[i,j] for j in node) <= source[i])\n",
    "end\n",
    "\n",
    "for i = 8:10\n",
    "    @constraint(m, sum(x[j,i] for j in node) >= sink[i])\n",
    "end\n",
    "#@constraint(m, a[i = 1:10, j=1:10], x[i,j] <= [i,j])\n",
    "\n",
    "@objective(m, Max, sum(x[i,8]+x[i,9]+x[i,10] for i in node))\n",
    "solve(m)\n",
    "\n",
    "println(\"Max flow: \", getobjectivevalue(m)) # need to take negative\n",
    "\n",
    "assignment = NamedArray( [ (getvalue(x[i,j])) for i in node, j in node ], (node, node), (\"f\",\"t\"))\n"
   ]
  },
  {
   "cell_type": "markdown",
   "metadata": {},
   "source": [
    "Method 1\n",
    "Yes, it can\n",
    "This one is the max flow fulfill the citis' water demand."
   ]
  },
  {
   "cell_type": "code",
   "execution_count": 2,
   "metadata": {},
   "outputs": [
    {
     "name": "stdout",
     "output_type": "stream",
     "text": [
      "Max flow: 56.0\n",
      "Flow on each arc: \n",
      "1: 30.0\n",
      "2: 26.0\n",
      "3: 14.0\n",
      "4: 0.0\n",
      "5: 16.0\n",
      "6: 21.0\n",
      "7: 5.0\n",
      "8: 9.0\n",
      "9: 5.0\n",
      "10: 2.0\n",
      "11: 19.0\n",
      "12: 14.0\n",
      "13: 6.0\n",
      "14: 12.0\n",
      "15: 10.0\n",
      "16: 9.0\n",
      "17: 5.0\n",
      "18: 0.0\n",
      "19: 19.0\n",
      "20: 16.0\n",
      "21: 21.0\n",
      "22: 56.0\n"
     ]
    }
   ],
   "source": [
    "using JuMP, Clp\n",
    "\n",
    "# incidence matrix\n",
    "#s1,s2||13,14,15,24,25,||35,37,45,46,||58,59,510,69,610,78,79||8s,9s,10s\n",
    "A = [\n",
    "1  1  0  0  0  0  0  0  0  0  0  0  0  0  0  0  0  0  0  0  0 \n",
    "-1 0  1  1  1  0  0  0  0  0  0  0  0  0  0  0  0  0  0  0  0 \n",
    "0 -1  0  0  0  1  1  0  0  0  0  0  0  0  0  0  0  0  0  0  0\n",
    "0  0 -1  0  0  0  0  1  1  0  0  0  0  0  0  0  0  0  0  0  0 \n",
    "0  0  0 -1  0 -1  0  0  0  1  1  0  0  0  0  0  0  0  0  0  0 \n",
    "0  0  0  0 -1  0 -1 -1  0 -1  0  1  1  1  0  0  0  0  0  0  0 \n",
    "0  0  0  0  0  0  0  0  0  0 -1  0  0  0  1  1  0  0  0  0  0 \n",
    "0  0  0  0  0  0  0  0 -1  0  0  0  0  0  0  0  1  1  0  0  0 \n",
    "0  0  0  0  0  0  0  0  0  0  0 -1  0  0  0  0 -1  0  1  0  0 \n",
    "0  0  0  0  0  0  0  0  0  0  0  0 -1  0 -1  0  0 -1  0  1  0 \n",
    "0  0  0  0  0  0  0  0  0  0  0  0  0 -1  0 -1  0  0  0  0  1 \n",
    "0  0  0  0  0  0  0  0  0  0  0  0  0  0  0  0  0  0 -1 -1 -1    \n",
    "    ] \n",
    "\n",
    "# dummy arc from sink (5) to source (0)\n",
    "A = [A [-1;0;0;0;0;0;0;0;0;0;0;1]]\n",
    "\n",
    "# supply and demand\n",
    "b = [0, 0, 0, 0, 0, 0,0,0,0,0,0,0]\n",
    "\n",
    "# costs\n",
    "c = [0, 0, 0, 0, 0, 0, 0, 0, 0,0,0,0,0,0,0,0,0,0, 0,0,0,-1]\n",
    "\n",
    "# capacities on each arc. make dummy arc capacity \"big enough\"\n",
    "cap = [30,27,21,11,16,22,5,9,16,2,23,14,10,16,10,9,8,10,100,100,100,100]\n",
    "\n",
    "m = Model(solver=ClpSolver())\n",
    "\n",
    "@variable(m, x[1:22] >= 0)\n",
    "\n",
    "@constraint(m, A*x .== b)\n",
    "\n",
    "@constraint(m, x .<= cap)\n",
    "\n",
    "@objective(m, Min, dot(c,x))\n",
    "\n",
    "@constraint(m, x[19] >= 17)\n",
    "@constraint(m, x[20] >=15)\n",
    "@constraint(m, x[21] >=21)\n",
    "\n",
    "solve(m)\n",
    "\n",
    "println(\"Max flow: \", -getobjectivevalue(m)) # need to take negative\n",
    "\n",
    "println(\"Flow on each arc: \")\n",
    "for i = 1:22\n",
    "    print(i, \": \")\n",
    "    println(getvalue(x[i]))\n",
    "end\n"
   ]
  },
  {
   "cell_type": "code",
   "execution_count": null,
   "metadata": {},
   "outputs": [],
   "source": [
    "Method 2\n",
    "Yes, it can\n",
    "This one is the max flow fulfill the citis' water demand."
   ]
  },
  {
   "cell_type": "markdown",
   "metadata": {},
   "source": [
    "# 3"
   ]
  },
  {
   "cell_type": "markdown",
   "metadata": {},
   "source": [
    "Math Model:\n",
    "\n",
    "We extend the restrains on sinks to all, we creat a new vector to record the lower bound (d).(easier to write in code)\n",
    "\n",
    "Primal:\n",
    "Max: -cx\n",
    "\n",
    "x>=0\n",
    "x<=cap\n",
    "x>=d (restraint on these sinks)\n",
    "A*x == b (b is all zero)\n",
    "\n",
    "Dual:\n",
    "(t(22) is the parameter for arch, s(12) is the parameter for node, v for the restrain on sinks)\n",
    "Min: cap'*t + b'* s + d'*v(since b is all zero it can be reduced to cap'*t+ d'*v)\n",
    "\n",
    "s free\n",
    "t >= 0\n",
    "v <= 0\n",
    "t[i] + (A'*s)[i] +v[i]>= -c[i]\n"
   ]
  },
  {
   "cell_type": "code",
   "execution_count": 53,
   "metadata": {},
   "outputs": [
    {
     "name": "stdout",
     "output_type": "stream",
     "text": [
      "Max flow: 56.0\n",
      "[-1.0, -0.0, -1.0, 0.0, -1.0, 0.0, -1.0, 0.0, 0.0, 0.0, 0.0, 0.0]\n",
      "[1.0, 0.0, 0.0, 0.0, 0.0, 0.0, 1.0, 0.0, 0.0, 1.0, 0.0, 0.0, 0.0, 0.0, 1.0, 1.0, 0.0, 0.0, 0.0, 0.0, 0.0, 0.0]\n",
      "[0.0, 0.0, 0.0, 0.0, 0.0, 0.0, 0.0, 0.0, 0.0, 0.0, 0.0, 0.0, 0.0, 0.0, 0.0, 0.0, 0.0, 0.0, 0.0, 0.0, 0.0, 0.0]\n"
     ]
    }
   ],
   "source": [
    "using JuMP, Clp\n",
    "\n",
    "m = Model(solver=ClpSolver())\n",
    "\n",
    "cap = [30,27,21,11,16,22,5,9,16,2,23,14,10,16,10,9,8,10,100,100,100,100]\n",
    "\n",
    "A = [\n",
    "1  1  0  0  0  0  0  0  0  0  0  0  0  0  0  0  0  0  0  0  0 \n",
    "-1 0  1  1  1  0  0  0  0  0  0  0  0  0  0  0  0  0  0  0  0 \n",
    "0 -1  0  0  0  1  1  0  0  0  0  0  0  0  0  0  0  0  0  0  0\n",
    "0  0 -1  0  0  0  0  1  1  0  0  0  0  0  0  0  0  0  0  0  0 \n",
    "0  0  0 -1  0 -1  0  0  0  1  1  0  0  0  0  0  0  0  0  0  0 \n",
    "0  0  0  0 -1  0 -1 -1  0 -1  0  1  1  1  0  0  0  0  0  0  0 \n",
    "0  0  0  0  0  0  0  0  0  0 -1  0  0  0  1  1  0  0  0  0  0 \n",
    "0  0  0  0  0  0  0  0 -1  0  0  0  0  0  0  0  1  1  0  0  0 \n",
    "0  0  0  0  0  0  0  0  0  0  0 -1  0  0  0  0 -1  0  1  0  0 \n",
    "0  0  0  0  0  0  0  0  0  0  0  0 -1  0 -1  0  0 -1  0  1  0 \n",
    "0  0  0  0  0  0  0  0  0  0  0  0  0 -1  0 -1  0  0  0  0  1 \n",
    "0  0  0  0  0  0  0  0  0  0  0  0  0  0  0  0  0  0 -1 -1 -1    \n",
    "    ] \n",
    "\n",
    "# dummy arc from sink (5) to source (0)\n",
    "A = [A [-1;0;0;0;0;0;0;0;0;0;0;1]]\n",
    "\n",
    "# supply and demand\n",
    "b = [0, 0, 0, 0, 0, 0,0,0,0,0,0,0]\n",
    "\n",
    "# costs\n",
    "c = [0, 0, 0, 0, 0, 0, 0, 0, 0,0,0,0,0,0,0,0,0,0, 0,0,0,-1]\n",
    "\n",
    "# bounds for arch 19,20,21\n",
    "d = [0, 0, 0, 0, 0, 0, 0, 0, 0,0,0,0,0,0,0,0,0,0,17,15,21,0]\n",
    "\n",
    "@variable(m, s[1:12])\n",
    "@variable(m, t[1:22] >= 0)\n",
    "@variable(m, v[1:22] <= 0)\n",
    "\n",
    "@objective(m, Min, sum(cap'[i] * t[i] + d[i]'*v[i] for i =1:22))\n",
    "\n",
    "for i = 1:22\n",
    "    @constraint(m, t[i] + (A'*s)[i] +v[i]>= -c[i])\n",
    "end\n",
    "\n",
    "\n",
    "\n",
    "solve(m)\n",
    "\n",
    "println(\"Max flow: \", getobjectivevalue(m)) # need to take negative\n",
    "println(getvalue(s))\n",
    "println(getvalue(t))\n",
    "println(getvalue(v))\n"
   ]
  },
  {
   "cell_type": "markdown",
   "metadata": {},
   "source": [
    "Since the optimal solution exists.\n",
    "By theorem:\n",
    "Therefore, the dual solution is equal to the primal solution"
   ]
  }
 ],
 "metadata": {
  "kernelspec": {
   "display_name": "Julia 0.6.4",
   "language": "julia",
   "name": "julia-0.6"
  },
  "language_info": {
   "file_extension": ".jl",
   "mimetype": "application/julia",
   "name": "julia",
   "version": "0.6.4"
  }
 },
 "nbformat": 4,
 "nbformat_minor": 2
}

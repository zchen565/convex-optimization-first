{
 "cells": [
  {
   "cell_type": "markdown",
   "metadata": {},
   "source": []
  },
  {
   "cell_type": "markdown",
   "metadata": {},
   "source": [
    "smartphone components:\n",
    "1. screen\n",
    "2. camera\n",
    "3. soc\n",
    "4. ram & rom\n",
    "5. mainboard\n",
    "6. sensor\n",
    "7. battery\n",
    "\n",
    "assemble:\n",
    "location of the assem\n",
    "\n",
    "production: 1000000"
   ]
  },
  {
   "cell_type": "code",
   "execution_count": 39,
   "metadata": {},
   "outputs": [
    {
     "name": "stdout",
     "output_type": "stream",
     "text": [
      "Dict(:camera=>1200000,:screen=>1400000,:battery=>1100000,:sensor=>1050000,:ramrom=>1100000,:mainboard=>1100000,:soc=>1050000)\n",
      "Dict(:camera=>300000,:screen=>350000,:battery=>220000,:sensor=>175000,:ramrom=>275000,:mainboard=>220000,:soc=>350000)\n",
      "0.005\n",
      "Academic license - for non-commercial use only\n",
      "[342500.0, 352500.0, 352500.0, 352500.0]\n",
      "[300000.0, 300000.0, 300000.0, 300000.0]\n",
      "[350000.0, 350000.0, 350000.0]\n",
      "[275000.0, 275000.0, 275000.0, 275000.0]\n",
      "[220000.0, 220000.0, 220000.0, 220000.0, 220000.0]\n",
      "[175000.0, 175000.0, 175000.0, 175000.0, 175000.0, 175000.0]\n",
      "[220000.0, 220000.0, 220000.0, 220000.0, 220000.0]\n",
      "8.34624999999999e8\n"
     ]
    }
   ],
   "source": [
    "using JuMP, Gurobi\n",
    "\n",
    "m = Model(solver=GurobiSolver(OutputFlag=0))\n",
    "#1000000 total\n",
    "\n",
    "total = 1000000 #production\n",
    "\n",
    "component =[:screen,:camera,:soc,:ramrom,:mainboard,:sensor,:battery]\n",
    "\n",
    "\n",
    "#need data \n",
    "screen = [200,100,100,100]\n",
    "camera = [100,100,100,100]\n",
    "soc = [100,100,100]\n",
    "ramrom = [100,100,100,100]\n",
    "mainboard = [100,100,100,100,100]\n",
    "sensor = [100,100,100,100,100,100]\n",
    "battery = [100,100,100,100,100]\n",
    "\n",
    "#number of suppliers for each component\n",
    "supplier = Dict(zip(component, [4,4,3,4,5,6,5]))\n",
    "# non-defective\n",
    "nondefective = Dict(zip(component, [0.4,0.2,0.05,0.1,0.1,0.05,0.1]))\n",
    "\n",
    "totaleach = Dict(zip(component, [0,0,0,0,0,0,0]))\n",
    "for i = component\n",
    "    totaleach[i] = total*(1+nondefective[i])\n",
    "end\n",
    "\n",
    "\n",
    "println(totaleach)\n",
    "expectation = Dict(zip(component, [0,0,0,0,0,0,0]))\n",
    "for i = component\n",
    "    expectation[i] = totaleach[i]/supplier[i]\n",
    "end\n",
    "\n",
    "println(expectation)\n",
    "\n",
    "@variable(m, screen_x[1:4] >= 0)\n",
    "@variable(m, camera_x[1:4] >= 0)\n",
    "@variable(m, soc_x[1:3] >= 0)\n",
    "@variable(m, ramrom_x[1:4] >= 0)\n",
    "@variable(m, mainboard_x[1:5] >= 0)\n",
    "@variable(m, sensor_x[1:6] >= 0)\n",
    "@variable(m, battery_x[1:5] >= 0)\n",
    "\n",
    "lambda = Dict(zip(component,[0.005, 0.002,0.006,0.004,0.001,0.001,0.0005])) \n",
    "\n",
    "@constraint(m, sum(screen_x[i] for i = 1:4)>= totaleach[:screen])\n",
    "@constraint(m, sum(camera_x[i] for i = 1:4)>= totaleach[:camera])\n",
    "@constraint(m, sum(soc_x[i] for i = 1:3)>= totaleach[:soc])\n",
    "@constraint(m, sum(ramrom_x[i] for i = 1:4)>= totaleach[:ramrom])\n",
    "@constraint(m, sum(mainboard_x[i] for i = 1:5)>= totaleach[:mainboard])\n",
    "@constraint(m, sum(sensor_x[i] for i = 1:6)>= totaleach[:sensor])\n",
    "@constraint(m, sum(battery_x[i] for i = 1:5)>= totaleach[:battery])\n",
    "\n",
    "#screen_x[i]*screen[i] + lambda[:screen]*(sum((screen[i]-expectation[:screen])^2) for i = 1:4\n",
    "\n",
    "println(lambda[:screen])\n",
    "@objective(m, Min, \n",
    "     sum(screen_x[i]*screen[i] + lambda[:screen]*(screen_x[i]-expectation[:screen])^2 for i = 1:4)\n",
    "    +sum(camera_x[i]*camera[i] + lambda[:camera]*(camera_x[i]-expectation[:camera])^2 for i = 1:4)\n",
    "    +sum(soc_x[i]*soc[i] + lambda[:soc]*(soc_x[i]-expectation[:soc])^2 for i = 1:3)\n",
    "    +sum(ramrom_x[i]*ramrom[i] + lambda[:ramrom]*(ramrom_x[i]-expectation[:ramrom])^2 for i = 1:4)\n",
    "    +sum(mainboard_x[i]*mainboard[i] + lambda[:mainboard]*(mainboard_x[i]-expectation[:mainboard])^2 for i = 1:5)\n",
    "    +sum(sensor_x[i]*sensor[i] + lambda[:sensor]*(sensor_x[i]-expectation[:sensor])^2 for i = 1:6)\n",
    "    +sum(battery_x[i]*battery[i] + lambda[:battery]*(battery_x[i]-expectation[:battery])^2 for i = 1:5)\n",
    " )\n",
    "solve(m)\n",
    "\n",
    "println(getvalue(screen_x))\n",
    "println(getvalue(camera_x))\n",
    "println(getvalue(soc_x))\n",
    "println(getvalue(ramrom_x))\n",
    "println(getvalue(mainboard_x))\n",
    "println(getvalue(sensor_x))\n",
    "println(getvalue(battery_x))\n",
    "println(getobjectivevalue(m))\n",
    "\n"
   ]
  },
  {
   "cell_type": "code",
   "execution_count": 73,
   "metadata": {},
   "outputs": [
    {
     "data": {
      "text/plain": [
       "5"
      ]
     },
     "execution_count": 73,
     "metadata": {},
     "output_type": "execute_result"
    }
   ],
   "source": [
    "using JuMP, Gurobi, Clp\n",
    "\n",
    "x_pos = Dict(zip(component,[-180,200,400,300,230,-280,-500]))\n",
    "y_pos = Dict(zip(component,[300,-260,250,430,380,600,-200]))\n",
    "\n",
    "p = Dict(zip(component, [0.000002,0.000001,0.000001,0.000001,0.0000015,0.000001,0.00001]))\n",
    "allowance_x = 0\n",
    "allowance_y = 0\n",
    "\n",
    "l = 20\n",
    "r = 100\n",
    "\n",
    "price_in = 2\n",
    "price_out = 3\n",
    "\n",
    "lambda =5\n"
   ]
  },
  {
   "cell_type": "code",
   "execution_count": 74,
   "metadata": {},
   "outputs": [
    {
     "name": "stdout",
     "output_type": "stream",
     "text": [
      "Academic license - for non-commercial use only\r\n",
      "6.789345176322418e6\n",
      "-20.0\n",
      "16.14609571788413\n"
     ]
    }
   ],
   "source": [
    "m = Model(solver = GurobiSolver(OutputFlag = 0))\n",
    "@variable(m, x)\n",
    "@variable(m, y)\n",
    "@constraint(m, y<=20)\n",
    "@constraint(m, y>=-20)\n",
    "@constraint(m, x<=20)\n",
    "@constraint(m, x>=-20)\n",
    "@objective(m, Min, sum(((x-x_pos[i])^2 + (y-y_pos[i])^2)*p[i]*totaleach[i] for i = component)\n",
    "    +total*price_in )\n",
    "\n",
    "solve(m)\n",
    "\n",
    "println(getobjectivevalue(m))\n",
    "println(getvalue(x))\n",
    "println(getvalue(y))"
   ]
  },
  {
   "cell_type": "code",
   "execution_count": 75,
   "metadata": {},
   "outputs": [
    {
     "name": "stdout",
     "output_type": "stream",
     "text": [
      "Academic license - for non-commercial use only\r\n",
      "7.793640000186198e6\n",
      "-19.999999980486457\n",
      "19.999999981202834\n"
     ]
    }
   ],
   "source": [
    "m2 = Model(solver = GurobiSolver(OutputFlag = 0))\n",
    "@variable(m2, x2)\n",
    "@variable(m2, y2)\n",
    "\n",
    "@constraint(m2, x2>=-20)\n",
    "@constraint(m2, y2>= 20)\n",
    "@constraint(m2, (x2-allowance_x)^2 + (y2-allowance_y)^2  <= r^2)\n",
    "\n",
    "@objective(m2, Min, sum(((x2-x_pos[i])^2 + (y2-y_pos[i])^2)*p[i]*totaleach[i] for i = component) +\n",
    "lambda*((allowance_x-x2)^2+(allowance_y-y2)^2) + price_out*total)\n",
    "\n",
    "solve(m2)\n",
    "\n",
    "println(getobjectivevalue(m2))\n",
    "println(getvalue(x2))\n",
    "println(getvalue(y2))"
   ]
  },
  {
   "cell_type": "code",
   "execution_count": 76,
   "metadata": {},
   "outputs": [
    {
     "name": "stdout",
     "output_type": "stream",
     "text": [
      "Academic license - for non-commercial use only\r\n",
      "8.186666388040743e6\n",
      "19.999999971438893\n",
      "12.89739728548153\n"
     ]
    }
   ],
   "source": [
    "m3 = Model(solver = GurobiSolver(OutputFlag = 0))\n",
    "@variable(m3, x3)\n",
    "@variable(m3, y3)\n",
    "\n",
    "@constraint(m3, x3>=20)\n",
    "@constraint(m3, y3<= 20)\n",
    "@constraint(m3, (x3-allowance_x)^2 + (y3-allowance_y)^2  <= r^2)\n",
    "\n",
    "@objective(m3, Min, sum(((x3-x_pos[i])^2 + (y3-y_pos[i])^2)*p[i]*totaleach[i] for i = component) +\n",
    "lambda*((allowance_x-x3)^2+(allowance_y-y3)^2) + price_out*total)\n",
    "\n",
    "solve(m3)\n",
    "\n",
    "println(getobjectivevalue(m3))\n",
    "println(getvalue(x3))\n",
    "println(getvalue(y3))"
   ]
  },
  {
   "cell_type": "code",
   "execution_count": 77,
   "metadata": {},
   "outputs": [
    {
     "name": "stdout",
     "output_type": "stream",
     "text": [
      "Academic license - for non-commercial use only\r\n",
      "7.2792551804144345e6\n",
      "-97.97959023703322\n",
      "-20.000000107634865\n"
     ]
    }
   ],
   "source": [
    "m4 = Model(solver = GurobiSolver(OutputFlag = 0))\n",
    "@variable(m4, x4)\n",
    "@variable(m4, y4)\n",
    "\n",
    "@constraint(m4, x4<=20)\n",
    "@constraint(m4, y4<= -20)\n",
    "@constraint(m4, (x4-allowance_x)^2 + (y4-allowance_y)^2  <= r^2)\n",
    "\n",
    "@objective(m4, Min, sum(((x4-x_pos[i])^2 + (y4-y_pos[i])^2)*p[i]*totaleach[i] for i = component) +\n",
    "lambda*((allowance_x-x4)^2+(allowance_y-y4)^2) + price_out*total)\n",
    "\n",
    "solve(m4)\n",
    "\n",
    "println(getobjectivevalue(m4))\n",
    "println(getvalue(x4))\n",
    "println(getvalue(y4))"
   ]
  },
  {
   "cell_type": "code",
   "execution_count": 78,
   "metadata": {},
   "outputs": [
    {
     "name": "stdout",
     "output_type": "stream",
     "text": [
      "Academic license - for non-commercial use only\r\n",
      "7.244438013871507e6\n",
      "-99.79014973483045\n",
      "6.47499377364202\n"
     ]
    },
    {
     "name": "stderr",
     "output_type": "stream",
     "text": [
      "\u001b[1m\u001b[33mWARNING: \u001b[39m\u001b[22m\u001b[33mNot solved to optimality, status: Suboptimal\u001b[39m\n"
     ]
    }
   ],
   "source": [
    "m5 = Model(solver = GurobiSolver(OutputFlag = 0))\n",
    "@variable(m5, x5)\n",
    "@variable(m5, y5)\n",
    "\n",
    "@constraint(m5, x5<=-20)\n",
    "@constraint(m5, y5>= -20)\n",
    "@constraint(m5, (x5-allowance_x)^2 + (y5-allowance_y)^2  <= r^2)\n",
    "\n",
    "@objective(m5, Min, sum(((x5-x_pos[i])^2 + (y5-y_pos[i])^2)*p[i]*totaleach[i] for i = component) +\n",
    "lambda*((allowance_x-x5)^2+(allowance_y-y5)^2) + price_out*total)\n",
    "\n",
    "solve(m5)\n",
    "\n",
    "println(getobjectivevalue(m5))\n",
    "println(getvalue(x5))\n",
    "println(getvalue(y5))"
   ]
  },
  {
   "cell_type": "code",
   "execution_count": null,
   "metadata": {},
   "outputs": [],
   "source": []
  }
 ],
 "metadata": {
  "kernelspec": {
   "display_name": "Julia 0.6.4",
   "language": "julia",
   "name": "julia-0.6"
  },
  "language_info": {
   "file_extension": ".jl",
   "mimetype": "application/julia",
   "name": "julia",
   "version": "0.6.4"
  }
 },
 "nbformat": 4,
 "nbformat_minor": 2
}

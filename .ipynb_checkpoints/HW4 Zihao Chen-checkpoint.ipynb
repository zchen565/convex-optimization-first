{
 "cells": [
  {
   "cell_type": "markdown",
   "metadata": {},
   "source": [
    "# 1"
   ]
  },
  {
   "cell_type": "code",
   "execution_count": 3,
   "metadata": {},
   "outputs": [
    {
     "name": "stdout",
     "output_type": "stream",
     "text": [
      "Max: 4.5\n",
      "x1: 1.0\n",
      "x2: 1.5\n"
     ]
    }
   ],
   "source": [
    "using JuMP,Clp\n",
    "\n",
    "m = Model(solver=ClpSolver())\n",
    "\n",
    "@variable(m, x[1:2])\n",
    "\n",
    "@constraint(m, 2*x[1]+x[2]<=4)\n",
    "@constraint(m, 3*x[1]+2*x[2]>=6)\n",
    "@constraint(m, 4*x[1]+2*x[2]==7)\n",
    "\n",
    "@objective(m, Max, 3*x[1]+x[2])\n",
    "\n",
    "solve(m)\n",
    "\n",
    "println(\"Max: \", getobjectivevalue(m))\n",
    "println(\"x1: \", getvalue(x[1]))\n",
    "println(\"x2: \", getvalue(x[2]))"
   ]
  },
  {
   "cell_type": "markdown",
   "metadata": {},
   "source": [
    "(a)\n",
    "the solution is above\n",
    "(b) \n",
    "since the first constraint is slack, so the dual variable (a below) is 0\n",
    "the problem is simplified to the program below\n",
    "or we can simply solve the equation\n",
    "3b+4c=2\n",
    "2b+2c=1\n",
    "and find 6b+7c\n",
    "the solution is b=-1, c=1.5"
   ]
  },
  {
   "cell_type": "code",
   "execution_count": 7,
   "metadata": {},
   "outputs": [
    {
     "name": "stdout",
     "output_type": "stream",
     "text": [
      "Min: 4.5\n",
      "b: -1.0\n",
      "c: 1.5\n"
     ]
    }
   ],
   "source": [
    "using JuMP, Clp\n",
    "\n",
    "m = Model(solver=ClpSolver())\n",
    "\n",
    "\n",
    "@variable(m, b <=0)\n",
    "@variable(m, c )\n",
    "\n",
    "@constraint(m, 3*b+4*c == 3)\n",
    "@constraint(m, 2*b+2*c == 1)\n",
    "\n",
    "@objective(m, Min, 6*b+7*c)\n",
    "\n",
    "solve(m)\n",
    "\n",
    "println(\"Min: \", getobjectivevalue(m))\n",
    "println(\"b: \", getvalue(b))\n",
    "println(\"c: \", getvalue(c))"
   ]
  },
  {
   "cell_type": "code",
   "execution_count": null,
   "metadata": {},
   "outputs": [],
   "source": [
    "Verification"
   ]
  },
  {
   "cell_type": "code",
   "execution_count": 4,
   "metadata": {},
   "outputs": [
    {
     "name": "stdout",
     "output_type": "stream",
     "text": [
      "Min: 4.5\n",
      "a: 0.0\n",
      "b: -1.0\n",
      "c: 1.5\n"
     ]
    }
   ],
   "source": [
    "using JuMP, Clp\n",
    "\n",
    "m = Model(solver=ClpSolver())\n",
    "\n",
    "@variable(m, a >=0)\n",
    "@variable(m, b <=0)\n",
    "@variable(m, c )\n",
    "\n",
    "@constraint(m, 2*a+3*b+4*c == 3)\n",
    "@constraint(m, 1*a+2*b+2*c == 1)\n",
    "\n",
    "@objective(m, Min, 4*a+6*b+7*c)\n",
    "\n",
    "solve(m)\n",
    "\n",
    "println(\"Min: \", getobjectivevalue(m))\n",
    "println(\"a: \", getvalue(a))\n",
    "println(\"b: \", getvalue(b))\n",
    "println(\"c: \", getvalue(c))"
   ]
  },
  {
   "cell_type": "code",
   "execution_count": null,
   "metadata": {},
   "outputs": [],
   "source": [
    "(c)\n",
    "(1) this does not change the constraint, therefore the variable will not change\n",
    "    the max will be 5*1+1.5 = 6.5\n",
    "(2) change on the third constraint will change the dual objective to 4a+6b+8c\n",
    "    the delta is 1 in the third constraint\n",
    "    by theorem the change will be [0,0,1]*[a,b,c]'\n",
    "    simplified to 1*c = 1.5\n",
    "    min will be 4.5 + 1.5 = 6\n",
    "\n",
    "the verification is below"
   ]
  },
  {
   "cell_type": "code",
   "execution_count": 5,
   "metadata": {},
   "outputs": [
    {
     "name": "stdout",
     "output_type": "stream",
     "text": [
      "Max: 6.5\n",
      "x1: 1.0\n",
      "x2: 1.5\n"
     ]
    }
   ],
   "source": [
    "using JuMP,Clp\n",
    "\n",
    "m = Model(solver=ClpSolver())\n",
    "\n",
    "@variable(m, x[1:2])\n",
    "\n",
    "@constraint(m, 2*x[1]+x[2]<=4)\n",
    "@constraint(m, 3*x[1]+2*x[2]>=6)\n",
    "@constraint(m, 4*x[1]+2*x[2]==7)\n",
    "\n",
    "@objective(m, Max, 5*x[1]+x[2])\n",
    "\n",
    "solve(m)\n",
    "\n",
    "println(\"Max: \", getobjectivevalue(m))\n",
    "println(\"x1: \", getvalue(x[1]))\n",
    "println(\"x2: \", getvalue(x[2]))"
   ]
  },
  {
   "cell_type": "code",
   "execution_count": 6,
   "metadata": {},
   "outputs": [
    {
     "name": "stdout",
     "output_type": "stream",
     "text": [
      "Max: 6.0\n",
      "x1: 2.0\n",
      "x2: 0.0\n"
     ]
    }
   ],
   "source": [
    "using JuMP,Clp\n",
    "\n",
    "m = Model(solver=ClpSolver())\n",
    "\n",
    "@variable(m, x[1:2])\n",
    "\n",
    "@constraint(m, 2*x[1]+x[2]<=4)\n",
    "@constraint(m, 3*x[1]+2*x[2]>=6)\n",
    "@constraint(m, 4*x[1]+2*x[2]==8)\n",
    "\n",
    "@objective(m, Max, 3*x[1]+x[2])\n",
    "\n",
    "solve(m)\n",
    "\n",
    "println(\"Max: \", getobjectivevalue(m))\n",
    "println(\"x1: \", getvalue(x[1]))\n",
    "println(\"x2: \", getvalue(x[2]))"
   ]
  },
  {
   "cell_type": "markdown",
   "metadata": {},
   "source": [
    "# 2"
   ]
  },
  {
   "cell_type": "code",
   "execution_count": 28,
   "metadata": {
    "scrolled": true
   },
   "outputs": [
    {
     "data": {
      "image/png": "[encoded data removed]",
      "text/plain": [
       "PyPlot.Figure(PyObject <Figure size 1200x400 with 1 Axes>)"
      ]
     },
     "metadata": {},
     "output_type": "display_data"
    },
    {
     "name": "stdout",
     "output_type": "stream",
     "text": [
      "Academic license - for non-commercial use only\r\n",
      "Optimal\n",
      "[-2.01204e-6, 0.000882464, -0.0868663, -0.266997]\n",
      "52.449979402610886\n",
      "7.242235801367619\n"
     ]
    }
   ],
   "source": [
    " # set a seed so we get the same output every time \n",
    "seed = 67837 \n",
    "srand(seed) \n",
    "# initialize the vector of speeds \n",
    "val = 0 \n",
    "u = zeros(225) \n",
    "u[1] = val \n",
    "# set a density that determines how often the speed changes \n",
    "# low density corresponds to infrequent speed changes \n",
    "dens = 0.04 \n",
    "# build speed vector for all times between now and time 224 \n",
    "for i in 2:224    \n",
    "    # if a uniform(0,1) variable is < density    \n",
    "    if rand() < dens        \n",
    "        # increase the speed by 1 mph        \n",
    "        val = val + 1        \n",
    "        u[i] = val        \n",
    "        # if a uniform(0,1) variable is >= 1 - density    \n",
    "    elseif rand() >= 1.0-dens        \n",
    "        # decrease the speed by 1 mph        \n",
    "        val = val - 1        \n",
    "        u[i] = val    \n",
    "    else        \n",
    "        # otherwise the speed stays the same        \n",
    "        u[i] = val    \n",
    "    end \n",
    "end \n",
    "# the final speed should be 0 \n",
    "u[225] = 0 \n",
    "#T = length(u) \n",
    "# plot the speeds (your figure should match the one in the assignment!) \n",
    "\n",
    "\n",
    "\n",
    "using JuMP, Gurobi\n",
    "\n",
    "k = 3\n",
    "m = Model(solver=GurobiSolver(OutputFlag=0))\n",
    "\n",
    "@variable(m, a[1:k+1])\n",
    "\n",
    "# order of polynomial to use\n",
    "\n",
    "# fit using a function of the form f(x) = u1 x^k + u2 x^(k-1) + ... + uk x + u{k+1}\n",
    "n = length(u)\n",
    "A = zeros(n,k+1)\n",
    "for i = 1:n\n",
    "    for j = 1:k+1\n",
    "        A[i,j] = (i-1)^(k+1-j)\n",
    "    end\n",
    "end\n",
    "\n",
    "@objective(m, Min, sum( (u - A*a).^2 ) )\n",
    "\n",
    "status = solve(m)\n",
    "uopt = getvalue(a)\n",
    "\n",
    "println(status)\n",
    "\n",
    "println(getvalue(a))\n",
    "t = getvalue(sum( (u - A*a).^2 ))\n",
    "println(t)\n",
    "println(sqrt(t))\n",
    "\n",
    "#inv(A'*A)*(A'*u)\n",
    "\n",
    "#A\\u\n",
    "\n",
    "\n",
    "using PyPlot \n",
    "figure(figsize=(12,4)) \n",
    "plot(u,\"-\");\n",
    "\n",
    "npts = 100\n",
    "xfine = linspace(0,225,npts)\n",
    "ffine = ones(npts)\n",
    "for j = 1:k\n",
    "    ffine = [ffine.*xfine ones(npts)]\n",
    "end\n",
    "yfine = ffine * uopt\n",
    "\n",
    "plot( xfine, yfine, \"b-\")\n",
    "#axis([0,10,-2,8])\n",
    "grid()\n",
    "\n"
   ]
  },
  {
   "cell_type": "markdown",
   "metadata": {},
   "source": [
    "# 3"
   ]
  },
  {
   "cell_type": "code",
   "execution_count": 19,
   "metadata": {},
   "outputs": [
    {
     "name": "stdout",
     "output_type": "stream",
     "text": [
      "Earliest completion time: 20.0 weeks\n",
      "Start task S in week 0.0\n",
      "Start task 1 in week 0.0\n",
      "Start task 2 in week 0.0\n",
      "Start task 3 in week 6.0\n",
      "Start task 4 in week 9.0\n",
      "Start task 5 in week 11.0\n",
      "Start task 6 in week 16.0\n",
      "Start task 7 in week 14.0\n",
      "Start task 8 in week 18.0\n",
      "Start task F in week 20.0\n",
      "Task 1 is on the critical path.\n",
      "Task 3 is on the critical path.\n",
      "Task 4 is on the critical path.\n",
      "Task 5 is on the critical path.\n",
      "Task 7 is on the critical path.\n",
      "Task 8 is on the critical path.\n"
     ]
    }
   ],
   "source": [
    "using JuMP, Clp\n",
    "\n",
    "# task list\n",
    "T = [:S, :1, :2, :3, :4, :5, :6, :7, :8, :F]\n",
    "\n",
    "# each task has a duration\n",
    "duration = Dict(zip(T,[0,6,5,3,2,3,2,4,2,0]))\n",
    "\n",
    "using NamedArrays\n",
    "# initialize a table of which tasks precede others with all 0s\n",
    "zero_list = zeros(10,10)\n",
    "pred_list = NamedArray(zero_list, (T,T), (\"Task\", \"Task\"))\n",
    "\n",
    "pred_list[3,1] = 1;\n",
    "pred_list[4,3] = 1;\n",
    "pred_list[5,1] = 1;\n",
    "pred_list[5,4] = 1;\n",
    "pred_list[6,2] = 1;\n",
    "pred_list[7,5] = 1;\n",
    "pred_list[8,7] = 1;\n",
    "pred_list[8,6] = 1;\n",
    "pred_list[:F,8] = 1;\n",
    "\n",
    "\n",
    "m = Model(solver=ClpSolver())\n",
    "\n",
    "@variable(m, x[T] >= 0) # variable for each task\n",
    "# create constraint for every pair of tasks (i,j) where task i is preceded by task j\n",
    "@constraint(m,constr[i in T, j in T; pred_list[i,j] == 1], x[i] >= x[j] + duration[j])\n",
    "\n",
    "\n",
    "# minimize the time we start task F (finish project)\n",
    "@objective(m, Min, x[:F])\n",
    "\n",
    "solve(m)\n",
    "xsol = getvalue(x)\n",
    "\n",
    "println(\"Earliest completion time: \", getobjectivevalue(m), \" weeks\")\n",
    "for i in T\n",
    "    println(\"Start task \", i , \" in week \", xsol[i])\n",
    "end\n",
    "\n",
    "for i in T\n",
    "    for j in T\n",
    "        if pred_list[i,j] == 1\n",
    "            # this is equivalent to saying \"if there is no slack in the constraint\"\n",
    "            if getdual(constr[i,j]) > 0\n",
    "                # then we know this pair of tasks is on the critical path. \n",
    "                # to avoid redundancy, we'll only print the predecessor (could also do successor)\n",
    "                println(\"Task \", j, \" is on the critical path.\")\n",
    "            end\n",
    "        end\n",
    "    end\n",
    "end"
   ]
  },
  {
   "cell_type": "markdown",
   "metadata": {},
   "source": [
    "Critical Path: 1,3,4,5,7,8\n",
    "No, it's not in the critical path"
   ]
  }
 ],
 "metadata": {
  "kernelspec": {
   "display_name": "Julia 0.6.4",
   "language": "julia",
   "name": "julia-0.6"
  },
  "language_info": {
   "file_extension": ".jl",
   "mimetype": "application/julia",
   "name": "julia",
   "version": "0.6.4"
  }
 },
 "nbformat": 4,
 "nbformat_minor": 2
}

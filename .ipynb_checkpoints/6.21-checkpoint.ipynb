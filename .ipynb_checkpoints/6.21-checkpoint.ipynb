{
 "cells": [
  {
   "cell_type": "code",
   "execution_count": 11,
   "metadata": {},
   "outputs": [
    {
     "name": "stdout",
     "output_type": "stream",
     "text": [
      "  0.001476 seconds (150 allocations: 8.359 KiB)\n",
      "Infeasible\n",
      "Total profit will be $NaN\n"
     ]
    },
    {
     "name": "stderr",
     "output_type": "stream",
     "text": [
      "\u001b[1m\u001b[33mWARNING: \u001b[39m\u001b[22m\u001b[33mNot solved to optimality, status: Infeasible\u001b[39m\n"
     ]
    }
   ],
   "source": [
    "using JuMP, Clp\n",
    "\n",
    "m = Model(solver = ClpSolver())\n",
    "\n",
    "@variable(m, a >=0)\n",
    "@variable(m, b >= 0)\n",
    "@variable(m, 0<= c <=6)\n",
    "@variable(m, 0<= d <=6)\n",
    "@variable(m, 0<= e <=4)\n",
    "\n",
    "@objective(m, Max, c-1-3 * a+ 3 * b)\n",
    "\n",
    "@constraint(m, d + e <= 8 )\n",
    "@constraint(m, 7*c + e <= 14)\n",
    "@constraint(m, - 7*c - e <=-14)\n",
    "@constraint(m, a - b - 6 * c + d - e <= 4)\n",
    "\n",
    "println(@time(solve(m)))  \n",
    "println(\"Total profit will be \\$\", getobjectivevalue(m))\n",
    "\n",
    "\n"
   ]
  },
  {
   "cell_type": "code",
   "execution_count": null,
   "metadata": {},
   "outputs": [],
   "source": []
  },
  {
   "cell_type": "code",
   "execution_count": null,
   "metadata": {},
   "outputs": [],
   "source": []
  }
 ],
 "metadata": {
  "kernelspec": {
   "display_name": "Julia 0.6.4",
   "language": "julia",
   "name": "julia-0.6"
  },
  "language_info": {
   "file_extension": ".jl",
   "mimetype": "application/julia",
   "name": "julia",
   "version": "0.6.4"
  }
 },
 "nbformat": 4,
 "nbformat_minor": 2
}

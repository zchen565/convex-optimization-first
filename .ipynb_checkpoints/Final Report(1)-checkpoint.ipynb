{
 "cells": [
  {
   "cell_type": "markdown",
   "metadata": {},
   "source": [
    "### CS/ECE/ISyE 524 &mdash; Introduction to Optimization &mdash; Summer 2019 ###\n",
    "\n",
    "# Project title goes here #\n",
    "\n",
    "#### Zihao Chen (zchen565@wisc.edu), Jinxin Tao (jtao34@wisc.edu), Ruijia Wang (rwang428@wisc.edu)\n",
    "\n",
    "### Table of Contents\n",
    "\n",
    "1. [Introduction](#1.-Introduction)\n",
    "1. [Mathematical Model](#2.A.-Mathematical-model)\n",
    "  1.[model-1](#3. A.-part1)\n",
    "1. [Solution](#4.-Solution)\n",
    "1. [Results and Discussion](#5.-Results-and-discussion)\n",
    "1. [Optional Subsection](#6.A.-Feel-free-to-add-subsections)\n",
    "1. [Conclusion](#7.-Conclusion)"
   ]
  },
  {
   "cell_type": "markdown",
   "metadata": {},
   "source": [
    "## 1. Introduction ##\n",
    "\n",
    "\n",
    "This project aims to use different math models to solve smartphone supply chain problem. \n",
    "A mobile phone has an extremely complex supply chain that is basically made up of three areas: raw material extraction, component manufacture, assembly. In this project, we focus on the last two manufacture processes and model them as two math models. Whether these traditional math models are suitable for the smartphone supply chain problem is explored in the report.\n",
    "\n",
    "Each smartphone on the planet is made up of a large and complex set of components, including processors, storage, sensors, communication chips, boards and much more. Given this complexity, smartphone manufacturers look to third-party vendors – hundreds of them – to supply the individual hardware components, and each of these suppliers may have its own sub-suppliers. The result is an immensely interdependent supply chain. And that’s before we get into the firmware and the upper layers of the smartphone stack.\n",
    "\n",
    "For the component manufacture modeling part, a functional smartphone is modeled to be made up of a certain number of components. Each component has their own manufacture area where a specific number of suppliers produce the individual hardware components. Considering the fact that finding the right suppliers and resources diversely can actually lower costs and greatly reduce the risk of a single supplier going out of stock, we try to look for the balance of the number of orders among different suppliers. For the assembly modeling part, different manufacture area with chosen suppliers try to locate a place to assemble smartphone accessories to achieve minimum construction cost. \n",
    "\n",
    "In the sections below, detailed math models, solution code, discussion and comparison of two models and conclusion of the project will be displayed.\n",
    "\n",
    "图1\n",
    "![fixit_flowchart][flow]\n",
    "\n",
    "[flow]: http://pages.cs.wisc.edu/~zihaoc/cs400/myphoto.jpg"
   ]
  },
  {
   "cell_type": "markdown",
   "metadata": {},
   "source": [
    "## 2. Mathematical model ##\n",
    "\n",
    "图2\n",
    "\n",
    "**assume the reader is familiar with the material covered in class**.\n",
    "\n",
    "Here is an example of an equation:\n",
    "\n",
    "$$\\begin{bmatrix}\n",
    "      1 & 2 \\\\\n",
    "       3 & 4\n",
    "    \\end{bmatrix}\n",
    "    \\begin{bmatrix} x \\\\ y \\end{bmatrix} =\n",
    "    \\begin{bmatrix} 5 \\\\ 6 \\end{bmatrix}$$\n",
    "\n",
    "And here is an example of an optimization problem in standard form:\n",
    "$$\\begin{aligned}\n",
    "  \\underset{x \\in \\mathbb{R^n}}{\\text{maximize}}\\qquad& f_0(x) \\\\\n",
    "    \\text{subject to:}\\qquad& f_i(x) \\le 0 && i=1,\\dots,m\\\\\n",
    "    & h_j(x) = 0 && j=1,\\dots,r\n",
    "    \\end{aligned}$$\n",
    "\n",
    "For some quick tips on using $\\LaTeX$, see [this cheat sheet](http://users.dickinson.edu/~richesod/latex/latexcheatsheet.pdf)."
   ]
  },
  {
   "cell_type": "markdown",
   "metadata": {},
   "source": [
    "## 3. Solution ##\n",
    "\n",
    "The solution is separated to two parts.\n",
    "1.solve the suppliers problem for each component to minimize the cost\n",
    "2.find the best location to minimize the cost"
   ]
  },
  {
   "cell_type": "markdown",
   "metadata": {},
   "source": [
    "Since the number of suppliers for each component is different, we cannot use two dimension array.\n",
    "Instead, we use screen[], camera[],soc[],ramrom[], mainboard[],sensor[],battery[] represent the price of each supplier.\n",
    "parameters and constant:\n",
    "#1total = 100000\n",
    "\n"
   ]
  },
  {
   "cell_type": "code",
   "execution_count": 61,
   "metadata": {},
   "outputs": [
    {
     "name": "stdout",
     "output_type": "stream",
     "text": [
      "Dict(:camera=>1200000,:screen=>1400000,:battery=>1100000,:sensor=>1050000,:ramrom=>1100000,:mainboard=>1100000,:soc=>1050000)\n",
      "Dict(:camera=>300000,:screen=>350000,:battery=>220000,:sensor=>175000,:ramrom=>275000,:mainboard=>220000,:soc=>350000)\n",
      "5.0e-5\n",
      "Academic license - for non-commercial use only\n",
      "[362500.0, 462500.0, 262500.0, 312500.0]\n",
      "[337500.0, 387500.0, 262500.0, 212500.0]\n",
      "[3.58333e5, 3.16667e5, 375000.0]\n",
      "[284375.0, 246875.0, 221875.0, 346875.0]\n",
      "[215000.0, 265000.0, 315000.0, 115000.0, 190000.0]\n",
      "[1.93333e5, 2.08333e5, 1.98333e5, 1.58333e5, 1.48333e5, 1.43333e5]\n",
      "[232000.0, 282000.0, 262000.0, 142000.0, 182000.0]\n",
      "2.3892649583333337e8\n"
     ]
    }
   ],
   "source": [
    "using JuMP, Gurobi\n",
    "\n",
    "m = Model(solver=GurobiSolver(OutputFlag=0))\n",
    "#1000000 total\n",
    "total = 1000000 #production phones \n",
    "\n",
    "#7 components\n",
    "component =[:screen,:camera,:soc,:ramrom,:mainboard,:sensor,:battery]\n",
    "\n",
    "#the price for several suppliers for each componets\n",
    "#since the numbers of suppliers are different, we cannot use a matrix directly \n",
    "screen = [80,70,90,85]\n",
    "camera = [20,18,23,25]\n",
    "soc = [30,35,28]\n",
    "ramrom = [40,43,45,35]\n",
    "mainboard = [10,9,8,12,10.5]\n",
    "sensor = [7,6.7,6.9,7.7,7.9,8]\n",
    "battery = [5,4.5,4.7,5.9,5.5]\n",
    "\n",
    "#number of suppliers for each component\n",
    "supplier = Dict(zip(component, [4,4,3,4,5,6,5]))\n",
    "\n",
    "#non-defective rate\n",
    "#need extra production to grantee the total \n",
    "nondefective = Dict(zip(component, [0.4,0.2,0.05,0.1,0.1,0.05,0.1]))\n",
    "\n",
    "#the real number we use in the following calculation\n",
    "totaleach = Dict(zip(component, [0,0,0,0,0,0,0]))\n",
    "for i = component\n",
    "    totaleach[i] = total*(1+nondefective[i])\n",
    "end\n",
    "\n",
    "\n",
    "println(totaleach)\n",
    "expectation = Dict(zip(component, [0,0,0,0,0,0,0]))\n",
    "for i = component\n",
    "    expectation[i] = totaleach[i]/supplier[i]\n",
    "end\n",
    "\n",
    "println(expectation)\n",
    "\n",
    "@variable(m, screen_x[1:4] >= 0)\n",
    "@variable(m, camera_x[1:4] >= 0)\n",
    "@variable(m, soc_x[1:3] >= 0)\n",
    "@variable(m, ramrom_x[1:4] >= 0)\n",
    "@variable(m, mainboard_x[1:5] >= 0)\n",
    "@variable(m, sensor_x[1:6] >= 0)\n",
    "@variable(m, battery_x[1:5] >= 0)\n",
    "\n",
    "#penalty for depending on several companies\n",
    "lambda = Dict(zip(component,[0.00005, 0.00002,0.00006,0.00004,0.00001,0.00001,0.000005])) \n",
    "\n",
    "#fulfills the number of products each\n",
    "@constraint(m, sum(screen_x[i] for i = 1:4)>= totaleach[:screen])\n",
    "@constraint(m, sum(camera_x[i] for i = 1:4)>= totaleach[:camera])\n",
    "@constraint(m, sum(soc_x[i] for i = 1:3)>= totaleach[:soc])\n",
    "@constraint(m, sum(ramrom_x[i] for i = 1:4)>= totaleach[:ramrom])\n",
    "@constraint(m, sum(mainboard_x[i] for i = 1:5)>= totaleach[:mainboard])\n",
    "@constraint(m, sum(sensor_x[i] for i = 1:6)>= totaleach[:sensor])\n",
    "@constraint(m, sum(battery_x[i] for i = 1:5)>= totaleach[:battery])\n",
    "\n",
    "#screen_x[i]*screen[i] + lambda[:screen]*(sum((screen[i]-expectation[:screen])^2) for i = 1:4\n",
    "#this is the cost of one component\n",
    "\n",
    "println(lambda[:screen])\n",
    "@objective(m, Min, \n",
    "     sum(screen_x[i]*screen[i] + lambda[:screen]*(screen_x[i]-expectation[:screen])^2 for i = 1:4)\n",
    "    +sum(camera_x[i]*camera[i] + lambda[:camera]*(camera_x[i]-expectation[:camera])^2 for i = 1:4)\n",
    "    +sum(soc_x[i]*soc[i] + lambda[:soc]*(soc_x[i]-expectation[:soc])^2 for i = 1:3)\n",
    "    +sum(ramrom_x[i]*ramrom[i] + lambda[:ramrom]*(ramrom_x[i]-expectation[:ramrom])^2 for i = 1:4)\n",
    "    +sum(mainboard_x[i]*mainboard[i] + lambda[:mainboard]*(mainboard_x[i]-expectation[:mainboard])^2 for i = 1:5)\n",
    "    +sum(sensor_x[i]*sensor[i] + lambda[:sensor]*(sensor_x[i]-expectation[:sensor])^2 for i = 1:6)\n",
    "    +sum(battery_x[i]*battery[i] + lambda[:battery]*(battery_x[i]-expectation[:battery])^2 for i = 1:5)\n",
    " )\n",
    "solve(m)\n",
    "\n",
    "println(getvalue(screen_x))\n",
    "println(getvalue(camera_x))\n",
    "println(getvalue(soc_x))\n",
    "println(getvalue(ramrom_x))\n",
    "println(getvalue(mainboard_x))\n",
    "println(getvalue(sensor_x))\n",
    "println(getvalue(battery_x))\n",
    "println(getobjectivevalue(m))"
   ]
  },
  {
   "cell_type": "markdown",
   "metadata": {},
   "source": [
    "The initialization of the second question.\n"
   ]
  },
  {
   "cell_type": "code",
   "execution_count": 62,
   "metadata": {},
   "outputs": [
    {
     "data": {
      "text/plain": [
       "5"
      ]
     },
     "execution_count": 62,
     "metadata": {},
     "output_type": "execute_result"
    }
   ],
   "source": [
    "using JuMP, Gurobi\n",
    "\n",
    "#the location of the 7 components\n",
    "x_pos = Dict(zip(component,[-180,200,400,300,230,-280,-500]))\n",
    "y_pos = Dict(zip(component,[300,-260,250,430,380,600,-200]))\n",
    "\n",
    "#the parameter for delivering each component\n",
    "p = Dict(zip(component, [0.000002,0.000001,0.000001,0.000001,0.0000015,0.000001,0.00001]))\n",
    "\n",
    "#to simplify the question, we choose the allowance center at (0,0)\n",
    "allowance_x = 0\n",
    "allowance_y = 0\n",
    "\n",
    "l = 20 #l = d/2 in the introduction, to simplify the calculation\n",
    "r = 100 #radius of the target area\n",
    "\n",
    "price_in = 2 #the assembling price in the allowance area\n",
    "price_out = 3 #the assembling price out side the square(allowance area), but inside the circle\n",
    "\n",
    "lambda =5 #penaly for being too away from the allowance area \n"
   ]
  },
  {
   "cell_type": "code",
   "execution_count": null,
   "metadata": {},
   "outputs": [],
   "source": [
    "The following part calculate the best location in allowance area. \n",
    "The area is convex, so there will be a opimal."
   ]
  },
  {
   "cell_type": "code",
   "execution_count": 63,
   "metadata": {},
   "outputs": [
    {
     "name": "stdout",
     "output_type": "stream",
     "text": [
      "Academic license - for non-commercial use only\r\n",
      "6.789345176322418e6\n",
      "-20.0\n",
      "16.14609571788413\n"
     ]
    }
   ],
   "source": [
    "m = Model(solver = GurobiSolver(OutputFlag = 0))\n",
    "@variable(m, x)\n",
    "@variable(m, y)\n",
    "@constraint(m, y<=20)\n",
    "@constraint(m, y>=-20)\n",
    "@constraint(m, x<=20)\n",
    "@constraint(m, x>=-20)\n",
    "@objective(m, Min, sum(((x-x_pos[i])^2 + (y-y_pos[i])^2)*p[i]*totaleach[i] for i = component)\n",
    "    +total*price_in )\n",
    "\n",
    "solve(m)\n",
    "\n",
    "println(getobjectivevalue(m))\n",
    "println(getvalue(x))\n",
    "println(getvalue(y))"
   ]
  },
  {
   "cell_type": "code",
   "execution_count": null,
   "metadata": {},
   "outputs": [],
   "source": [
    "The next four code cells calculated the four convex part.\n",
    "Similarly, finding the best location for assembling."
   ]
  },
  {
   "cell_type": "code",
   "execution_count": 64,
   "metadata": {},
   "outputs": [
    {
     "name": "stdout",
     "output_type": "stream",
     "text": [
      "Academic license - for non-commercial use only\r\n",
      "7.793640000186198e6\n",
      "-19.999999980486457\n",
      "19.999999981202834\n"
     ]
    }
   ],
   "source": [
    "m2 = Model(solver = GurobiSolver(OutputFlag = 0))\n",
    "@variable(m2, x2)\n",
    "@variable(m2, y2)\n",
    "\n",
    "@constraint(m2, x2>=-20)\n",
    "@constraint(m2, y2>= 20)\n",
    "@constraint(m2, (x2-allowance_x)^2 + (y2-allowance_y)^2  <= r^2)\n",
    "\n",
    "@objective(m2, Min, sum(((x2-x_pos[i])^2 + (y2-y_pos[i])^2)*p[i]*totaleach[i] for i = component) +\n",
    "lambda*((allowance_x-x2)^2+(allowance_y-y2)^2) + price_out*total)\n",
    "\n",
    "solve(m2)\n",
    "\n",
    "println(getobjectivevalue(m2))\n",
    "println(getvalue(x2))\n",
    "println(getvalue(y2))"
   ]
  },
  {
   "cell_type": "code",
   "execution_count": 65,
   "metadata": {},
   "outputs": [
    {
     "name": "stdout",
     "output_type": "stream",
     "text": [
      "Academic license - for non-commercial use only\r\n",
      "8.186666388040743e6\n",
      "19.999999971438893\n",
      "12.89739728548153\n"
     ]
    }
   ],
   "source": [
    "m3 = Model(solver = GurobiSolver(OutputFlag = 0))\n",
    "@variable(m3, x3)\n",
    "@variable(m3, y3)\n",
    "\n",
    "@constraint(m3, x3>=20)\n",
    "@constraint(m3, y3<= 20)\n",
    "@constraint(m3, (x3-allowance_x)^2 + (y3-allowance_y)^2  <= r^2)\n",
    "\n",
    "@objective(m3, Min, sum(((x3-x_pos[i])^2 + (y3-y_pos[i])^2)*p[i]*totaleach[i] for i = component) +\n",
    "lambda*((allowance_x-x3)^2+(allowance_y-y3)^2) + price_out*total)\n",
    "\n",
    "solve(m3)\n",
    "\n",
    "println(getobjectivevalue(m3))\n",
    "println(getvalue(x3))\n",
    "println(getvalue(y3))"
   ]
  },
  {
   "cell_type": "code",
   "execution_count": 66,
   "metadata": {},
   "outputs": [
    {
     "name": "stdout",
     "output_type": "stream",
     "text": [
      "Academic license - for non-commercial use only\r\n",
      "7.2792551804144345e6\n",
      "-97.97959023703322\n",
      "-20.000000107634865\n"
     ]
    }
   ],
   "source": [
    "m4 = Model(solver = GurobiSolver(OutputFlag = 0))\n",
    "@variable(m4, x4)\n",
    "@variable(m4, y4)\n",
    "\n",
    "@constraint(m4, x4<=20)\n",
    "@constraint(m4, y4<= -20)\n",
    "@constraint(m4, (x4-allowance_x)^2 + (y4-allowance_y)^2  <= r^2)\n",
    "\n",
    "@objective(m4, Min, sum(((x4-x_pos[i])^2 + (y4-y_pos[i])^2)*p[i]*totaleach[i] for i = component) +\n",
    "lambda*((allowance_x-x4)^2+(allowance_y-y4)^2) + price_out*total)\n",
    "\n",
    "solve(m4)\n",
    "\n",
    "println(getobjectivevalue(m4))\n",
    "println(getvalue(x4))\n",
    "println(getvalue(y4))"
   ]
  },
  {
   "cell_type": "code",
   "execution_count": 67,
   "metadata": {},
   "outputs": [
    {
     "name": "stdout",
     "output_type": "stream",
     "text": [
      "Academic license - for non-commercial use only\r\n",
      "7.244438013871507e6\n",
      "-99.79014973483045\n",
      "6.47499377364202\n"
     ]
    },
    {
     "name": "stderr",
     "output_type": "stream",
     "text": [
      "\u001b[1m\u001b[33mWARNING: \u001b[39m\u001b[22m\u001b[33mNot solved to optimality, status: Suboptimal\u001b[39m\n"
     ]
    }
   ],
   "source": [
    "m5 = Model(solver = GurobiSolver(OutputFlag = 0))\n",
    "@variable(m5, x5)\n",
    "@variable(m5, y5)\n",
    "\n",
    "@constraint(m5, x5<= -20)\n",
    "@constraint(m5, y5>= -20)\n",
    "@constraint(m5, (x5-allowance_x)^2 + (y5-allowance_y)^2  <= r^2)\n",
    "\n",
    "@objective(m5, Min, sum(((x5-x_pos[i])^2 + (y5-y_pos[i])^2)*p[i]*totaleach[i] for i = component) +\n",
    "lambda*((allowance_x-x5)^2+(allowance_y-y5)^2) + price_out*total)\n",
    "\n",
    "solve(m5)\n",
    "\n",
    "println(getobjectivevalue(m5))\n",
    "println(getvalue(x5))\n",
    "println(getvalue(y5))"
   ]
  },
  {
   "cell_type": "markdown",
   "metadata": {},
   "source": [
    "Combining these 5 parts, we can get the best location for minmum cost.\n",
    "The final result is in the allowance area --6.789e6"
   ]
  },
  {
   "cell_type": "markdown",
   "metadata": {},
   "source": [
    "## 4. Results and discussion ##\n",
    "\n",
    "Here, you display and discuss the results. Show figures, plots, images, trade-off curves, or whatever else you can think of to best illustrate your results. The discussion should explain what the results mean, and how to interpret them. You should also explain the limitations of your approach/model and how sensitive your results are to the assumptions you made.\n",
    "\n",
    " Use plots (see `PyPlot` examples from class), or you can display results in a table like this:\n",
    "\n",
    "| Tables        | Are          | Cool  |\n",
    "| ------------- |:-------------| -----:|\n",
    "| col 3 is      |right-aligned |\\$1600 |\n",
    "|  colons       | align columns|  \\$12 |\n",
    "| zebra stripes |    are neat  |   \\$1 |\n",
    "\n",
    "### 4.A. Feel free to add subsections\n",
    "\n",
    "#### 4.A.a. or subsubsections"
   ]
  },
  {
   "cell_type": "code",
   "execution_count": 88,
   "metadata": {
    "scrolled": true
   },
   "outputs": [
    {
     "data": {
      "image/png": "[encoded data removed]",
      "text/plain": [
       "PyPlot.Figure(PyObject <Figure size 640x480 with 1 Axes>)"
      ]
     },
     "metadata": {},
     "output_type": "display_data"
    },
    {
     "name": "stdout",
     "output_type": "stream",
     "text": [
      "[362500.0, 462500.0, 262500.0, 312500.0]\n"
     ]
    },
    {
     "data": {
      "text/plain": [
       "PyObject <matplotlib.collections.PathCollection object at 0x00000000334CFC88>"
      ]
     },
     "execution_count": 88,
     "metadata": {},
     "output_type": "execute_result"
    }
   ],
   "source": [
    "using PyPlot\n",
    "lambda = Dict(zip(component,[0.00005, 0.00002,0.00006,0.00004,0.00001,0.00001,0.000005])) \n",
    "\n",
    "cost_1 = zeros(7)\n",
    "cost_2 = zeros(7)\n",
    "\n",
    "cost_1[1] = sum(getvalue(screen_x[i])*screen[i] for i = 1:4)\n",
    "cost_2[1] = sum(lambda[:screen]*(getvalue(screen_x[i])-expectation[:screen])^2 for i = 1:4)\n",
    "\n",
    "cost_1[2] = sum(getvalue(camera_x[i])*camera[i] for i = 1:4)\n",
    "cost_2[2] = sum(lambda[:camera]*(getvalue(camera_x[i])-expectation[:camera])^2 for i = 1:4)\n",
    "\n",
    "cost_1[3] = sum(getvalue(soc_x[i])*soc[i] for i = 1:3)\n",
    "cost_2[3] = sum(lambda[:soc]*(getvalue(soc_x[i])-expectation[:soc])^2 for i = 1:3)\n",
    "\n",
    "cost_1[4] = sum(getvalue(ramrom_x[i])*ramrom[i] for i = 1:4)\n",
    "cost_2[4] = sum(lambda[:ramrom]*(getvalue(ramrom_x[i])-expectation[:ramrom])^2 for i = 1:4)\n",
    "\n",
    "cost_1[5] = sum(getvalue(mainboard_x[i])*mainboard[i] for i = 1:5)\n",
    "cost_2[5] = sum(lambda[:mainboard]*(getvalue(mainboard_x[i])-expectation[:mainboard])^2 for i = 1:5)\n",
    "\n",
    "cost_1[6] = sum(getvalue(sensor_x[i])*sensor[i] for i = 1:6)\n",
    "cost_2[6] = sum(lambda[:sensor]*(getvalue(sensor_x[i])-expectation[:sensor])^2 for i = 1:6)\n",
    "\n",
    "cost_1[7] = sum(getvalue(battery_x[i])*battery[i] for i = 1:5)\n",
    "cost_2[7] = sum(lambda[:battery]*(getvalue(battery_x[i])-expectation[:battery])^2 for i = 1:5)\n",
    "\n",
    "println(getvalue(screen_x))\n",
    "\n",
    "\n",
    "scatter( cost_1, cost_2, color=\"blue\")\n"
   ]
  },
  {
   "cell_type": "markdown",
   "metadata": {},
   "source": [
    "cost_1 represents the total number of cost for each component while the cost_2 is the variance for each component multiplied by a tradeoff value lambda to avoid the monopolization. The above plot shows the different 7 components relationship between cost_1 and cost_2. "
   ]
  },
  {
   "cell_type": "code",
   "execution_count": 46,
   "metadata": {},
   "outputs": [
    {
     "data": {
      "image/png": "[encoded data removed]",
      "text/plain": [
       "PyPlot.Figure(PyObject <Figure size 640x480 with 1 Axes>)"
      ]
     },
     "metadata": {},
     "output_type": "display_data"
    },
    {
     "data": {
      "text/plain": [
       "PyObject <matplotlib.collections.PathCollection object at 0x000000002C715E10>"
      ]
     },
     "execution_count": 46,
     "metadata": {},
     "output_type": "execute_result"
    }
   ],
   "source": [
    "using PyPlot\n",
    "t = linspace(0,2pi,100) # parameter that traverses the circle \n",
    "plot( 0 + 100*cos.(t), 0 + 100*sin.(t)) # plot circle radius r with center (x1,x2) \n",
    "\n",
    "axis(\"equal\"); # make x and y scales equal\n",
    "\n",
    "xfine = linspace(-l,r,npts)\n",
    "yfine = xfine*0 +l\n",
    "plot( xfine, yfine, \"g-\")\n",
    "\n",
    "xfine = linspace(-r,l,npts)\n",
    "yfine = xfine*0 -l\n",
    "plot( xfine, yfine, \"g-\")\n",
    "\n",
    "yfine = linspace(-r,l,npts)\n",
    "xfine = yfine*0 +l\n",
    "plot( xfine, yfine, \"g-\")\n",
    "\n",
    "yfine = linspace(-l,r,npts)\n",
    "xfine = yfine*0 -l\n",
    "plot( xfine, yfine, \"g-\")\n",
    "\n",
    "scatter(getvalue(x),getvalue(y), color=\"red\", s=15)\n",
    "scatter(getvalue(x2),getvalue(y2), color=\"black\", s=10)\n",
    "scatter(getvalue(x3),getvalue(y3), color=\"black\", s=10)\n",
    "scatter(getvalue(x4),getvalue(y4), color=\"black\", s=10)\n",
    "scatter(getvalue(x5),getvalue(y5), color=\"black\", s=10)"
   ]
  },
  {
   "cell_type": "markdown",
   "metadata": {},
   "source": [
    "The round circle is assigned to build up the phone-assembling factory. The square in the circle is the area with allowance while the other four parts have penalty. Five different points are generated to show where to locate the factory with different building area assigned. Finally the red point, when the square is the assigned area, is the optimal point to build the factory. "
   ]
  },
  {
   "cell_type": "code",
   "execution_count": 43,
   "metadata": {
    "scrolled": true
   },
   "outputs": [
    {
     "data": {
      "image/png": "[encoded data removed]",
      "text/plain": [
       "PyPlot.Figure(PyObject <Figure size 640x480 with 1 Axes>)"
      ]
     },
     "metadata": {},
     "output_type": "display_data"
    },
    {
     "data": {
      "text/plain": [
       "PyObject <matplotlib.collections.PathCollection object at 0x000000002C604358>"
      ]
     },
     "execution_count": 43,
     "metadata": {},
     "output_type": "execute_result"
    }
   ],
   "source": [
    "using PyPlot\n",
    "x_pos =[-180,200,400,300,230,-280,-500]\n",
    "y_pos =[300,-260,250,430,380,600,-200]\n",
    "\n",
    "scatter( x_pos, y_pos, color=\"black\") # plot the 50 points \n",
    "t = linspace(0,2pi,100) # parameter that traverses the circle \n",
    "plot( 0 + 100*cos.(t), 0 + 100*sin.(t)) # plot circle radius r with center (x1,x2) \n",
    "\n",
    "axis(\"equal\"); # make x and y scales equal\n",
    "\n",
    "npts = 100\n",
    "for i = 1:7\n",
    "    xfine = linspace(x_pos[i], getvalue(x), npts)\n",
    "    yfine = (xfine-getvalue(x))*(y_pos[i]-getvalue(y))/(x_pos[i]-getvalue(x))+getvalue(y)\n",
    "    plot( xfine, yfine, \"r-\")\n",
    "end\n",
    "xfine = linspace(-l,r,npts)\n",
    "yfine = xfine*0 +l\n",
    "plot( xfine, yfine, \"g-\")\n",
    "\n",
    "xfine = linspace(-r,l,npts)\n",
    "yfine = xfine*0 -l\n",
    "plot( xfine, yfine, \"g-\")\n",
    "\n",
    "yfine = linspace(-r,l,npts)\n",
    "xfine = yfine*0 +l\n",
    "plot( xfine, yfine, \"g-\")\n",
    "\n",
    "yfine = linspace(-l,r,npts)\n",
    "xfine = yfine*0 -l\n",
    "plot( xfine, yfine, \"g-\")\n",
    "\n",
    "scatter(getvalue(x),getvalue(y), color=\"black\", s=10)\n",
    "scatter(getvalue(x2),getvalue(y2), color=\"black\", s=10)\n",
    "scatter(getvalue(x3),getvalue(y3), color=\"black\", s=10)\n",
    "scatter(getvalue(x4),getvalue(y4), color=\"black\", s=10)\n",
    "scatter(getvalue(x5),getvalue(y5), color=\"black\", s=10)\n",
    "\n"
   ]
  },
  {
   "cell_type": "markdown",
   "metadata": {},
   "source": [
    "Based on the last diagram, the above diagram adds seven different black points representing seven different smartphone accessories manufacture areas. We already know from the last diagram that the red point in the square is the optimal location to build factory. So the seven accessories manufacture area will transport their total accessories to it and finish the assembling process. "
   ]
  },
  {
   "cell_type": "markdown",
   "metadata": {},
   "source": [
    "## 5. Conclusion ##\n",
    "\n",
    "Summarize your findings and your results, and talk about at least one possible future direction; something that might be interesting to pursue as a follow-up to your project."
   ]
  },
  {
   "cell_type": "markdown",
   "metadata": {},
   "source": []
  }
 ],
 "metadata": {
  "kernelspec": {
   "display_name": "Julia 0.6.4",
   "language": "julia",
   "name": "julia-0.6"
  },
  "language_info": {
   "file_extension": ".jl",
   "mimetype": "application/julia",
   "name": "julia",
   "version": "0.6.4"
  }
 },
 "nbformat": 4,
 "nbformat_minor": 2
}

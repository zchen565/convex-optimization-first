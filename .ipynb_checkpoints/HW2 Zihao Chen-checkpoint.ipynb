{
 "cells": [
  {
   "cell_type": "markdown",
   "metadata": {},
   "source": [
    "# 1"
   ]
  },
  {
   "cell_type": "code",
   "execution_count": 5,
   "metadata": {},
   "outputs": [
    {
     "name": "stdout",
     "output_type": "stream",
     "text": [
      "Corn 12300.0\n",
      "Potato 10700.0\n",
      "Sugar 9000.0\n",
      "Powder 14000.0\n",
      "Paste 18000.0\n",
      "Min 26247.0\n"
     ]
    }
   ],
   "source": [
    "using JuMP, Clp\n",
    "\n",
    "m = Model(solver=ClpSolver())\n",
    "\n",
    "@variable(m, c >= 0)\n",
    "@variable(m, p>=0)\n",
    "@variable(m, s>=0)\n",
    "@variable(m, a >=14000)\n",
    "@variable(m, b>=18000)\n",
    "\n",
    "@objective(m, Min, 0.11*c+0.12*p+0.09*s+0.4(c+p)+0.08*s+0.65*a+0.21*b)\n",
    "\n",
    "@constraint(m, 5.7*c+8.2*p+6.1*s >= 4.2*(c+s+p))\n",
    "@constraint(m, 6.1*c+3.4*p+1.8*s >= 3.5*(c+s+p))\n",
    "@constraint(m, 3.3*c+0.7*p+15*s >= 5.2*(c+s+p))\n",
    "@constraint(m, c<=12300)\n",
    "@constraint(m, p<=16000)\n",
    "@constraint(m, s<=9000)\n",
    "@constraint(m, c+p+s == a+b)\n",
    "\n",
    "solve(m)\n",
    "\n",
    "println(\"Corn \", getvalue(c))\n",
    "println(\"Potato \", getvalue(p))\n",
    "println(\"Sugar \",getvalue(s))\n",
    "println(\"Powder \",getvalue(a))\n",
    "println(\"Paste \",getvalue(b))\n",
    "println(\"Min \", getobjectivevalue(m))\n"
   ]
  },
  {
   "cell_type": "markdown",
   "metadata": {},
   "source": [
    "# 2\n"
   ]
  },
  {
   "cell_type": "code",
   "execution_count": 108,
   "metadata": {},
   "outputs": [
    {
     "name": "stdout",
     "output_type": "stream",
     "text": [
      "$X: 2 dimensions:\n",
      "[ panther,:]\n",
      "  [ panther,1] = 2162.5\n",
      "  [ panther,2] = 2162.5\n",
      "  [ panther,3] = 3000.0\n",
      "  [ panther,4] = 3000.0\n",
      "  [ panther,5] = 1800.0\n",
      "  [ panther,6] = 1800.0\n",
      "[ penguin,:]\n",
      "  [ penguin,1] = 1200.0\n",
      "  [ penguin,2] = 735.0\n",
      "  [ penguin,3] = 735.0\n",
      "  [ penguin,4] = 915.0\n",
      "  [ penguin,5] = 915.0\n",
      "  [ penguin,6] = 915.0\n",
      "[   panda,:]\n",
      "  [   panda,1] = 2495.0\n",
      "  [   panda,2] = 2350.0\n",
      "  [   panda,3] = 2350.0\n",
      "  [   panda,4] = 1800.0\n",
      "  [   panda,5] = 1655.0\n",
      "  [   panda,6] = 1655.0\n",
      "[pangolin,:]\n",
      "  [pangolin,1] = 1600.0\n",
      "  [pangolin,2] = 1600.0\n",
      "  [pangolin,3] = 1400.0\n",
      "  [pangolin,4] = 1270.0\n",
      "  [pangolin,5] = 1270.0\n",
      "  [pangolin,6] = 1270.0\n",
      "total cost: $795073.375\n"
     ]
    }
   ],
   "source": [
    "# make lists of products and months in planning horizon \n",
    "prods = [:panther, :penguin, :panda, :pangolin] \n",
    "months = [:1,:2,:3,:4,:5,:6] \n",
    "\n",
    "# make dictionary of demand each month for each product\n",
    "demand = Dict() \n",
    "demand[:panther] = Dict(zip(months,[1350,3000,2500,3500,1500,2000])) \n",
    "demand[:panda] = Dict(zip(months,[2500,1700,3000,1800,1300,2000])) \n",
    "demand[:penguin] = Dict(zip(months,[1200,600,800,800,1100,900])) \n",
    "demand[:pangolin] = Dict(zip(months,[1500,1700,1400,900,1000,1900])) \n",
    "\n",
    "# make dictionary mapping each product to its production cost \n",
    "cprod = Dict(zip(prods,[22,26,15,19])) \n",
    "\n",
    "# make dictionary mapping each product to its inventory cost \n",
    "cstore = Dict(zip(prods,[0.5,0.4,0.3,0.3])) \n",
    "\n",
    "# make dictionary mapping each product to its starting inventory \n",
    "inv_init = Dict(zip(prods,[25,0,5,0]))\n",
    "# make dictionary mapping each product to its ending inventory \n",
    "inv_end = Dict(zip(prods,[100,15,10,10]));\n",
    "\n",
    "using JuMP, Clp, SCS, ECOS\n",
    "\n",
    "m = Model(solver=ClpSolver())\n",
    "\n",
    "@variable(m, X[prods,months]>=0) # production\n",
    "@variable(m, I[prods,months]>=0) # inventory for each\n",
    "@variable(m, add[prods,months]>=0) # number of increase in x\n",
    "@variable(m, de[prods,months]>=0) # number of decrease in x\n",
    "\n",
    "@objective(m, Min, sum(cprod[i]*X[i,j]+cstore[i]*I[i,j] for i in prods, j in months)+0.75*sum(add)+0.4*sum(de)) \n",
    "\n",
    "@constraint(m, all[i in prods], add[i,6] == 0)\n",
    "@constraint(m, all2[i in prods], de[i,6] == 0)\n",
    "@constraint(m, increase[i in prods, j in 1:5], X[i,j]+add[i,j]-de[i,j] == X[i,j+1])\n",
    "\n",
    "@constraint(m, init[i in prods], inv_init[i]+X[i,1] == I[i,1]+demand[i][1])\n",
    "@constraint(m, iend[i in prods], I[i,6] == inv_end[i])\n",
    "@constraint(m, production[i in prods, j in 2:6], X[i,j]+I[i,j-1] == demand[i][j] + I[i,j])\n",
    "\n",
    "\n",
    "\n",
    "solve(m)\n",
    "\n",
    "println(\"\\$\", getvalue(X))\n",
    "println(\"total cost: \\$\", getobjectivevalue(m))\n"
   ]
  },
  {
   "cell_type": "code",
   "execution_count": 110,
   "metadata": {},
   "outputs": [
    {
     "name": "stdout",
     "output_type": "stream",
     "text": [
      "$X: 2 dimensions:\n",
      "[ panther,:]\n",
      "  [ panther,1] = 2229.166666666666\n",
      "  [ panther,2] = 2229.166666666666\n",
      "  [ panther,3] = 2366.6666666666674\n",
      "  [ panther,4] = 2366.6666666666674\n",
      "  [ panther,5] = 2366.6666666666665\n",
      "  [ panther,6] = 2366.6666666666665\n",
      "[ penguin,:]\n",
      "  [ penguin,1] = 896.25\n",
      "  [ penguin,2] = 896.25\n",
      "  [ penguin,3] = 896.25\n",
      "  [ penguin,4] = 896.25\n",
      "  [ penguin,5] = 915.0\n",
      "  [ penguin,6] = 915.0\n",
      "[   panda,:]\n",
      "  [   panda,1] = 2398.333333333333\n",
      "  [   panda,2] = 2398.333333333333\n",
      "  [   panda,3] = 2398.333333333334\n",
      "  [   panda,4] = 1800.0\n",
      "  [   panda,5] = 1655.0\n",
      "  [   panda,6] = 1655.0\n",
      "[pangolin,:]\n",
      "  [pangolin,1] = 1600.0\n",
      "  [pangolin,2] = 1600.0\n",
      "  [pangolin,3] = 1400.0\n",
      "  [pangolin,4] = 1270.0\n",
      "  [pangolin,5] = 1270.0\n",
      "  [pangolin,6] = 1270.0\n",
      "total cost: $794175.3333333334\n"
     ]
    }
   ],
   "source": [
    "# make lists of products and months in planning horizon \n",
    "prods = [:panther, :penguin, :panda, :pangolin] \n",
    "months = [:1,:2,:3,:4,:5,:6] \n",
    "\n",
    "# make dictionary of demand each month for each product\n",
    "demand = Dict() \n",
    "demand[:panther] = Dict(zip(months,[1350,3000,2500,3500,1500,2000])) \n",
    "demand[:panda] = Dict(zip(months,[2500,1700,3000,1800,1300,2000])) \n",
    "demand[:penguin] = Dict(zip(months,[1200,600,800,800,1100,900])) \n",
    "demand[:pangolin] = Dict(zip(months,[1500,1700,1400,900,1000,1900])) \n",
    "\n",
    "# make dictionary mapping each product to its production cost \n",
    "cprod = Dict(zip(prods,[22,26,15,19])) \n",
    "\n",
    "# make dictionary mapping each product to its inventory cost \n",
    "cstore = Dict(zip(prods,[0.5,0.4,0.3,0.3])) \n",
    "\n",
    "# make dictionary mapping each product to its starting inventory \n",
    "inv_init = Dict(zip(prods,[25,0,5,0]))\n",
    "# make dictionary mapping each product to its ending inventory \n",
    "inv_end = Dict(zip(prods,[100,15,10,10]));\n",
    "\n",
    "using JuMP, Clp\n",
    "\n",
    "m = Model(solver=ClpSolver())\n",
    "\n",
    "@variable(m, X[prods,months]>=0) # production\n",
    "@variable(m, I[prods,months]) # inventory for each\n",
    "@variable(m, add[prods,months]>=0) # number of increase in x\n",
    "@variable(m, de[prods,months]>=0) # number of decrease in x\n",
    "@variable(m, L[prods,months]>=0) #number of leftover\n",
    "@variable(m, B[prods,months]>=0)#backlog\n",
    "\n",
    "@objective(m, Min, sum(cprod[i]*X[i,j]+cstore[i]*L[i,j] for i in prods, j in months)+0.75*sum(add)+0.4*sum(de)+0.45*sum(B)) \n",
    "\n",
    "@constraint(m, ab[i in prods], B[i,6] == 0)\n",
    "@constraint(m, all[i in prods], add[i,6] == 0)\n",
    "@constraint(m, all2[i in prods], de[i,6] == 0)\n",
    "\n",
    "@constraint(m, increase[i in prods, j in 1:5], X[i,j]+add[i,j]-de[i,j] == X[i,j+1])\n",
    "\n",
    "@constraint(m, init[i in prods], inv_init[i]+X[i,1] == I[i,1]+demand[i][1])\n",
    "@constraint(m, iend[i in prods], I[i,6] == inv_end[i])\n",
    "@constraint(m, production[i in prods, j in 2:6], X[i,j]+I[i,j-1] == demand[i][j] + I[i,j])\n",
    "\n",
    "@constraint(m, updown[i in prods, j in months], I[i,j] == L[i,j]-B[i,j])\n",
    "\n",
    "\n",
    "\n",
    "solve(m)\n",
    "\n",
    "println(\"\\$\", getvalue(X))\n",
    "println(\"total cost: \\$\", getobjectivevalue(m))"
   ]
  },
  {
   "cell_type": "markdown",
   "metadata": {},
   "source": [
    "# 3"
   ]
  },
  {
   "cell_type": "code",
   "execution_count": 34,
   "metadata": {},
   "outputs": [
    {
     "name": "stdout",
     "output_type": "stream",
     "text": [
      "Cost 153.49484179477358\n"
     ]
    }
   ],
   "source": [
    "using Plots \n",
    "# set x coordinates and y coordinates for each friend \n",
    "x_coord = [20,18,0,35,2,11,33,2,4,12,7,26]  \n",
    "y_coord = [8,13,5,7,11,15,22,7,10,0,6,21] \n",
    "# plot locations of friends on a \"map\" \n",
    "plot(x_coord,y_coord,seriestype=:scatter,markershape=:x,    \n",
    "    markersize=1,legend=false,series_annotations=[\"1\",\"2\",\"3\",\"4\",\"5\",\"6\",\"7\", \"8\",\"9\",\"10\",\"11\",\"12\",])\n",
    "\n",
    "friends = [:1,:2,:3,:4,:5,:6,:7,:8,:9,:10,:11,:12] # list of friends \n",
    "# make a list of (x,y) coordinate pairs for each friend \n",
    "x_y_coord = [(x_coord[i],y_coord[i]) for i in friends] \n",
    "# make a dictionary that maps friends to their locations \n",
    "friend_x_y = Dict(zip(friends,x_y_coord)) \n",
    "# make list of requested numbers of dice \n",
    "req = [5,7,16,4,11,15,8,10,1,6,18,7] \n",
    "# make list of numbers of dice each frient currently has \n",
    "has = [15,6,10,1,21,9,9,3,10,5,11,8] \n",
    "# make dictionaries mapping friends to their requested dice and current dice \n",
    "wants_dice = Dict(zip(friends,req)) \n",
    "has_dice = Dict(zip(friends,has));\n",
    "\n",
    "using JuMP, Clp\n",
    "\n",
    "m = Model(solver=ClpSolver())\n",
    "\n",
    "dist = zeros(12,12)\n",
    "for i =1:12\n",
    "    for j =1:12\n",
    "        dist[i,j] = 1.6*sqrt((x_coord[i]-x_coord[j])^2 + (y_coord[i]-y_coord[j])^2)\n",
    "    end\n",
    "end\n",
    "\n",
    "@variable(m, x[friends,friends] >=0)\n",
    "\n",
    "@objective(m, Min, 0.4*sum(dist[i,j]*x[i,j] for i=1:12, j =1:12))\n",
    "\n",
    "@constraint(m, a[i in friends], sum(x[i,k] for k in friends) == has[i])\n",
    "@constraint(m, b[i in friends], sum(x[k,i] for k in friends) == req[i])\n",
    "\n",
    "#@constraint(m, c[i in friends], sum(x[k,i] for k in friends) + has_dice[i] == wants_dice[i] + sum(x[i,k] for k in friends))\n",
    "\n",
    "solve(m)\n",
    "\n",
    "println(\"Cost \",getobjectivevalue(m))\n",
    "\n",
    "\n"
   ]
  },
  {
   "cell_type": "markdown",
   "metadata": {},
   "source": [
    "# Question"
   ]
  },
  {
   "cell_type": "code",
   "execution_count": 26,
   "metadata": {},
   "outputs": [
    {
     "ename": "LoadError",
     "evalue": "\u001b[91msyntax: extra token \"last\" after end of expression\u001b[39m",
     "output_type": "error",
     "traceback": [
      "\u001b[91msyntax: extra token \"last\" after end of expression\u001b[39m",
      ""
     ]
    }
   ],
   "source": [
    "The last problem has a problem!\n",
    "we don't need to drive several times to deliver the dices, therefore the flow matrix should be a symbol matrix.\n",
    "which means any positive flow should be 1,otherwise 0.\n",
    "And then we can multiply with the distance to calculate the cost of gas.\n",
    "\n",
    "But, I don't know how to do that."
   ]
  }
 ],
 "metadata": {
  "kernelspec": {
   "display_name": "Julia 0.6.4",
   "language": "julia",
   "name": "julia-0.6"
  },
  "language_info": {
   "file_extension": ".jl",
   "mimetype": "application/julia",
   "name": "julia",
   "version": "0.6.4"
  }
 },
 "nbformat": 4,
 "nbformat_minor": 2
}
